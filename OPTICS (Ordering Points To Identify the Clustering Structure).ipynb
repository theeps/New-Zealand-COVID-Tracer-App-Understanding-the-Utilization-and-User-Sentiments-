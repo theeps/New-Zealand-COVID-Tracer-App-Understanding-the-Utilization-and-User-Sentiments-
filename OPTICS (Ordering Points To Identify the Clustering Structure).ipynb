{
 "cells": [
  {
   "cell_type": "code",
   "execution_count": 1,
   "id": "c2fdb224",
   "metadata": {},
   "outputs": [],
   "source": [
    "from sklearn.cluster import OPTICS\n",
    "import numpy as np"
   ]
  },
  {
   "cell_type": "code",
   "execution_count": 2,
   "id": "4192fecd",
   "metadata": {},
   "outputs": [],
   "source": [
    "X = np.array([[1, 2], [2, 5], [3, 6],\n",
    "              [8, 7], [8, 8], [7, 3]])"
   ]
  },
  {
   "cell_type": "code",
   "execution_count": 3,
   "id": "ed19f5f9",
   "metadata": {},
   "outputs": [
    {
     "data": {
      "text/plain": [
       "array([0, 0, 0, 1, 1, 1])"
      ]
     },
     "execution_count": 3,
     "metadata": {},
     "output_type": "execute_result"
    }
   ],
   "source": [
    "clustering = OPTICS(min_samples=2).fit(X)\n",
    "clustering.labels_"
   ]
  },
  {
   "cell_type": "code",
   "execution_count": 4,
   "id": "5228c6c1",
   "metadata": {},
   "outputs": [],
   "source": [
    "import numpy as np\n",
    "import pandas as pd\n",
    "import matplotlib.pyplot as plt\n",
    "%matplotlib inline\n",
    "from datetime import datetime"
   ]
  },
  {
   "cell_type": "code",
   "execution_count": 7,
   "id": "24440fb3",
   "metadata": {},
   "outputs": [
    {
     "data": {
      "text/html": [
       "<div>\n",
       "<style scoped>\n",
       "    .dataframe tbody tr th:only-of-type {\n",
       "        vertical-align: middle;\n",
       "    }\n",
       "\n",
       "    .dataframe tbody tr th {\n",
       "        vertical-align: top;\n",
       "    }\n",
       "\n",
       "    .dataframe thead th {\n",
       "        text-align: right;\n",
       "    }\n",
       "</style>\n",
       "<table border=\"1\" class=\"dataframe\">\n",
       "  <thead>\n",
       "    <tr style=\"text-align: right;\">\n",
       "      <th></th>\n",
       "      <th>Date</th>\n",
       "      <th>Content</th>\n",
       "      <th>Rating</th>\n",
       "      <th>Version</th>\n",
       "      <th>final_text</th>\n",
       "      <th>predicted_label</th>\n",
       "      <th>predicted_label_name</th>\n",
       "      <th>Rating_converted</th>\n",
       "      <th>check</th>\n",
       "    </tr>\n",
       "  </thead>\n",
       "  <tbody>\n",
       "    <tr>\n",
       "      <th>0</th>\n",
       "      <td>12/31/2021</td>\n",
       "      <td>Why isn't it updating g to the new version eve...</td>\n",
       "      <td>2</td>\n",
       "      <td>6.1.0</td>\n",
       "      <td>updating g new version even though ticked auto...</td>\n",
       "      <td>0</td>\n",
       "      <td>Negative</td>\n",
       "      <td>Negative</td>\n",
       "      <td>True</td>\n",
       "    </tr>\n",
       "    <tr>\n",
       "      <th>1</th>\n",
       "      <td>12/31/2021</td>\n",
       "      <td>Getting message unfortunately NZ Covid Tracer ...</td>\n",
       "      <td>1</td>\n",
       "      <td>6.1.0</td>\n",
       "      <td>getting message unfortunately nz covid tracer ...</td>\n",
       "      <td>0</td>\n",
       "      <td>Negative</td>\n",
       "      <td>Negative</td>\n",
       "      <td>True</td>\n",
       "    </tr>\n",
       "  </tbody>\n",
       "</table>\n",
       "</div>"
      ],
      "text/plain": [
       "         Date                                            Content  Rating  \\\n",
       "0  12/31/2021  Why isn't it updating g to the new version eve...       2   \n",
       "1  12/31/2021  Getting message unfortunately NZ Covid Tracer ...       1   \n",
       "\n",
       "  Version                                         final_text  predicted_label  \\\n",
       "0   6.1.0  updating g new version even though ticked auto...                0   \n",
       "1   6.1.0  getting message unfortunately nz covid tracer ...                0   \n",
       "\n",
       "  predicted_label_name Rating_converted  check  \n",
       "0             Negative         Negative   True  \n",
       "1             Negative         Negative   True  "
      ]
     },
     "execution_count": 7,
     "metadata": {},
     "output_type": "execute_result"
    }
   ],
   "source": [
    "df1 = pd.read_csv(r'E:\\NZ_Covid App FinalYearProject\\Final Work only\\nzpredicted_DL2.csv',encoding=('ISO-8859-1'))\n",
    "df1.head(2) "
   ]
  },
  {
   "cell_type": "code",
   "execution_count": 6,
   "id": "b5c5d7e8",
   "metadata": {},
   "outputs": [
    {
     "data": {
      "text/html": [
       "<div>\n",
       "<style scoped>\n",
       "    .dataframe tbody tr th:only-of-type {\n",
       "        vertical-align: middle;\n",
       "    }\n",
       "\n",
       "    .dataframe tbody tr th {\n",
       "        vertical-align: top;\n",
       "    }\n",
       "\n",
       "    .dataframe thead th {\n",
       "        text-align: right;\n",
       "    }\n",
       "</style>\n",
       "<table border=\"1\" class=\"dataframe\">\n",
       "  <thead>\n",
       "    <tr style=\"text-align: right;\">\n",
       "      <th></th>\n",
       "      <th>Date</th>\n",
       "      <th>Content</th>\n",
       "      <th>Rating</th>\n",
       "      <th>Version</th>\n",
       "      <th>final_text</th>\n",
       "      <th>predicted_label</th>\n",
       "      <th>predicted_label_name</th>\n",
       "      <th>Rating_converted</th>\n",
       "      <th>check</th>\n",
       "    </tr>\n",
       "  </thead>\n",
       "  <tbody>\n",
       "    <tr>\n",
       "      <th>0</th>\n",
       "      <td>12/31/2021</td>\n",
       "      <td>Why isn't it updating g to the new version eve...</td>\n",
       "      <td>2</td>\n",
       "      <td>6.1.0</td>\n",
       "      <td>updating g new version even though ticked auto...</td>\n",
       "      <td>0</td>\n",
       "      <td>Negative</td>\n",
       "      <td>Negative</td>\n",
       "      <td>True</td>\n",
       "    </tr>\n",
       "    <tr>\n",
       "      <th>1</th>\n",
       "      <td>12/31/2021</td>\n",
       "      <td>Getting message unfortunately NZ Covid Tracer ...</td>\n",
       "      <td>1</td>\n",
       "      <td>6.1.0</td>\n",
       "      <td>getting message unfortunately nz covid tracer ...</td>\n",
       "      <td>0</td>\n",
       "      <td>Negative</td>\n",
       "      <td>Negative</td>\n",
       "      <td>True</td>\n",
       "    </tr>\n",
       "    <tr>\n",
       "      <th>6</th>\n",
       "      <td>12/28/2021</td>\n",
       "      <td>Don't bother using the link to view vaccinatio...</td>\n",
       "      <td>1</td>\n",
       "      <td>6.1.0</td>\n",
       "      <td>bother using link view vaccination pass works ...</td>\n",
       "      <td>0</td>\n",
       "      <td>Negative</td>\n",
       "      <td>Negative</td>\n",
       "      <td>True</td>\n",
       "    </tr>\n",
       "    <tr>\n",
       "      <th>7</th>\n",
       "      <td>12/28/2021</td>\n",
       "      <td>Works well enough then suddenly just won't wor...</td>\n",
       "      <td>1</td>\n",
       "      <td>6.0.0</td>\n",
       "      <td>works well enough suddenly work loses entries ...</td>\n",
       "      <td>0</td>\n",
       "      <td>Negative</td>\n",
       "      <td>Negative</td>\n",
       "      <td>True</td>\n",
       "    </tr>\n",
       "    <tr>\n",
       "      <th>9</th>\n",
       "      <td>12/27/2021</td>\n",
       "      <td>Disgusting app disappears on screen no fix off...</td>\n",
       "      <td>1</td>\n",
       "      <td>6.1.0</td>\n",
       "      <td>disgusting app disappears screen fix offered f...</td>\n",
       "      <td>0</td>\n",
       "      <td>Negative</td>\n",
       "      <td>Negative</td>\n",
       "      <td>True</td>\n",
       "    </tr>\n",
       "  </tbody>\n",
       "</table>\n",
       "</div>"
      ],
      "text/plain": [
       "         Date                                            Content  Rating  \\\n",
       "0  12/31/2021  Why isn't it updating g to the new version eve...       2   \n",
       "1  12/31/2021  Getting message unfortunately NZ Covid Tracer ...       1   \n",
       "6  12/28/2021  Don't bother using the link to view vaccinatio...       1   \n",
       "7  12/28/2021  Works well enough then suddenly just won't wor...       1   \n",
       "9  12/27/2021  Disgusting app disappears on screen no fix off...       1   \n",
       "\n",
       "  Version                                         final_text  predicted_label  \\\n",
       "0   6.1.0  updating g new version even though ticked auto...                0   \n",
       "1   6.1.0  getting message unfortunately nz covid tracer ...                0   \n",
       "6   6.1.0  bother using link view vaccination pass works ...                0   \n",
       "7   6.0.0  works well enough suddenly work loses entries ...                0   \n",
       "9   6.1.0  disgusting app disappears screen fix offered f...                0   \n",
       "\n",
       "  predicted_label_name Rating_converted  check  \n",
       "0             Negative         Negative   True  \n",
       "1             Negative         Negative   True  \n",
       "6             Negative         Negative   True  \n",
       "7             Negative         Negative   True  \n",
       "9             Negative         Negative   True  "
      ]
     },
     "execution_count": 6,
     "metadata": {},
     "output_type": "execute_result"
    }
   ],
   "source": [
    "df = df1[df1['predicted_label_name']=='Negative']#.final_text.astype(str)\n",
    "df.head()"
   ]
  },
  {
   "cell_type": "code",
   "execution_count": 8,
   "id": "7b478eed",
   "metadata": {},
   "outputs": [],
   "source": [
    "from sklearn.feature_extraction.text import TfidfVectorizer\n",
    "from sklearn.cluster import OPTICS"
   ]
  },
  {
   "cell_type": "code",
   "execution_count": 9,
   "id": "05736229",
   "metadata": {},
   "outputs": [
    {
     "data": {
      "text/plain": [
       "array(['updating g new version even though ticked auto update',\n",
       "       'getting message unfortunately nz covid tracer app stopped uninstalled installed half dozen times still loging work log',\n",
       "       'bother using link view vaccination pass works connected data wifi ridiculous',\n",
       "       ...,\n",
       "       'hear population app average used twice walked queen st auckland shops poster qr print hardly success story high rise buildings offices supermarkets l malls either lazy bothered',\n",
       "       'app bit shonky longer allows update details goes blank screen',\n",
       "       'parts even work current ios details address sections even load enter details also point manually record check ins places display code scan still need manually keep spreadsheet check ins makes app quite pointless'],\n",
       "      dtype='<U713')"
      ]
     },
     "execution_count": 9,
     "metadata": {},
     "output_type": "execute_result"
    }
   ],
   "source": [
    "documents = df['final_text'].values.astype(\"U\")\n",
    "documents"
   ]
  },
  {
   "cell_type": "code",
   "execution_count": 12,
   "id": "4b8fd542",
   "metadata": {},
   "outputs": [],
   "source": [
    "vectorizer = TfidfVectorizer(stop_words='english')\n",
    "features = vectorizer.fit_transform(documents).toarray()"
   ]
  },
  {
   "cell_type": "code",
   "execution_count": 20,
   "id": "d4a45df0",
   "metadata": {},
   "outputs": [
    {
     "data": {
      "text/plain": [
       "array([0, 0, 0, ..., 0, 0, 0])"
      ]
     },
     "execution_count": 20,
     "metadata": {},
     "output_type": "execute_result"
    }
   ],
   "source": [
    "clustering = OPTICS(min_samples = 10, xi = 0.05, min_cluster_size = 0.05).fit(features)\n",
    "clustering.labels_"
   ]
  },
  {
   "cell_type": "code",
   "execution_count": 14,
   "id": "a890c66c",
   "metadata": {},
   "outputs": [
    {
     "data": {
      "text/html": [
       "<div>\n",
       "<style scoped>\n",
       "    .dataframe tbody tr th:only-of-type {\n",
       "        vertical-align: middle;\n",
       "    }\n",
       "\n",
       "    .dataframe tbody tr th {\n",
       "        vertical-align: top;\n",
       "    }\n",
       "\n",
       "    .dataframe thead th {\n",
       "        text-align: right;\n",
       "    }\n",
       "</style>\n",
       "<table border=\"1\" class=\"dataframe\">\n",
       "  <thead>\n",
       "    <tr style=\"text-align: right;\">\n",
       "      <th></th>\n",
       "      <th>Date</th>\n",
       "      <th>Content</th>\n",
       "      <th>Rating</th>\n",
       "      <th>Version</th>\n",
       "      <th>final_text</th>\n",
       "      <th>predicted_label</th>\n",
       "      <th>predicted_label_name</th>\n",
       "      <th>Rating_converted</th>\n",
       "      <th>check</th>\n",
       "      <th>cluster</th>\n",
       "    </tr>\n",
       "  </thead>\n",
       "  <tbody>\n",
       "    <tr>\n",
       "      <th>0</th>\n",
       "      <td>12/31/2021</td>\n",
       "      <td>Why isn't it updating g to the new version eve...</td>\n",
       "      <td>2</td>\n",
       "      <td>6.1.0</td>\n",
       "      <td>updating g new version even though ticked auto...</td>\n",
       "      <td>0</td>\n",
       "      <td>Negative</td>\n",
       "      <td>Negative</td>\n",
       "      <td>True</td>\n",
       "      <td>0</td>\n",
       "    </tr>\n",
       "    <tr>\n",
       "      <th>1</th>\n",
       "      <td>12/31/2021</td>\n",
       "      <td>Getting message unfortunately NZ Covid Tracer ...</td>\n",
       "      <td>1</td>\n",
       "      <td>6.1.0</td>\n",
       "      <td>getting message unfortunately nz covid tracer ...</td>\n",
       "      <td>0</td>\n",
       "      <td>Negative</td>\n",
       "      <td>Negative</td>\n",
       "      <td>True</td>\n",
       "      <td>-1</td>\n",
       "    </tr>\n",
       "    <tr>\n",
       "      <th>6</th>\n",
       "      <td>12/28/2021</td>\n",
       "      <td>Don't bother using the link to view vaccinatio...</td>\n",
       "      <td>1</td>\n",
       "      <td>6.1.0</td>\n",
       "      <td>bother using link view vaccination pass works ...</td>\n",
       "      <td>0</td>\n",
       "      <td>Negative</td>\n",
       "      <td>Negative</td>\n",
       "      <td>True</td>\n",
       "      <td>-1</td>\n",
       "    </tr>\n",
       "    <tr>\n",
       "      <th>7</th>\n",
       "      <td>12/28/2021</td>\n",
       "      <td>Works well enough then suddenly just won't wor...</td>\n",
       "      <td>1</td>\n",
       "      <td>6.0.0</td>\n",
       "      <td>works well enough suddenly work loses entries ...</td>\n",
       "      <td>0</td>\n",
       "      <td>Negative</td>\n",
       "      <td>Negative</td>\n",
       "      <td>True</td>\n",
       "      <td>-1</td>\n",
       "    </tr>\n",
       "    <tr>\n",
       "      <th>9</th>\n",
       "      <td>12/27/2021</td>\n",
       "      <td>Disgusting app disappears on screen no fix off...</td>\n",
       "      <td>1</td>\n",
       "      <td>6.1.0</td>\n",
       "      <td>disgusting app disappears screen fix offered f...</td>\n",
       "      <td>0</td>\n",
       "      <td>Negative</td>\n",
       "      <td>Negative</td>\n",
       "      <td>True</td>\n",
       "      <td>-1</td>\n",
       "    </tr>\n",
       "  </tbody>\n",
       "</table>\n",
       "</div>"
      ],
      "text/plain": [
       "         Date                                            Content  Rating  \\\n",
       "0  12/31/2021  Why isn't it updating g to the new version eve...       2   \n",
       "1  12/31/2021  Getting message unfortunately NZ Covid Tracer ...       1   \n",
       "6  12/28/2021  Don't bother using the link to view vaccinatio...       1   \n",
       "7  12/28/2021  Works well enough then suddenly just won't wor...       1   \n",
       "9  12/27/2021  Disgusting app disappears on screen no fix off...       1   \n",
       "\n",
       "  Version                                         final_text  predicted_label  \\\n",
       "0   6.1.0  updating g new version even though ticked auto...                0   \n",
       "1   6.1.0  getting message unfortunately nz covid tracer ...                0   \n",
       "6   6.1.0  bother using link view vaccination pass works ...                0   \n",
       "7   6.0.0  works well enough suddenly work loses entries ...                0   \n",
       "9   6.1.0  disgusting app disappears screen fix offered f...                0   \n",
       "\n",
       "  predicted_label_name Rating_converted  check  cluster  \n",
       "0             Negative         Negative   True        0  \n",
       "1             Negative         Negative   True       -1  \n",
       "6             Negative         Negative   True       -1  \n",
       "7             Negative         Negative   True       -1  \n",
       "9             Negative         Negative   True       -1  "
      ]
     },
     "execution_count": 14,
     "metadata": {},
     "output_type": "execute_result"
    }
   ],
   "source": [
    "df['cluster'] = clustering.labels_\n",
    "df.head()"
   ]
  },
  {
   "cell_type": "code",
   "execution_count": 15,
   "id": "42e97ea9",
   "metadata": {},
   "outputs": [],
   "source": [
    "# output the result to a text file.\n",
    "\n",
    "clusters = df.groupby('cluster')    \n",
    "\n",
    "for cluster in clusters.groups:\n",
    "    f = open('cluster'+str(cluster)+ '.csv', 'w') # create csv file\n",
    "    data = clusters.get_group(cluster)[['final_text']] # get title and overview columns\n",
    "    f.write(data.to_csv(index_label='Date')) # set index to id\n",
    "    f.close()"
   ]
  },
  {
   "cell_type": "code",
   "execution_count": 19,
   "id": "ec470743",
   "metadata": {},
   "outputs": [
    {
     "name": "stdout",
     "output_type": "stream",
     "text": [
      "Cluster centroids: \n",
      "\n",
      "Cluster 0:\n"
     ]
    },
    {
     "ename": "TypeError",
     "evalue": "'OPTICS' object is not subscriptable",
     "output_type": "error",
     "traceback": [
      "\u001b[1;31m---------------------------------------------------------------------------\u001b[0m",
      "\u001b[1;31mTypeError\u001b[0m                                 Traceback (most recent call last)",
      "\u001b[1;32m~\\AppData\\Local\\Temp/ipykernel_25188/2639995488.py\u001b[0m in \u001b[0;36m<module>\u001b[1;34m\u001b[0m\n\u001b[0;32m      5\u001b[0m \u001b[1;32mfor\u001b[0m \u001b[0mi\u001b[0m \u001b[1;32min\u001b[0m \u001b[0mrange\u001b[0m\u001b[1;33m(\u001b[0m\u001b[1;36m0\u001b[0m\u001b[1;33m,\u001b[0m\u001b[1;36m10\u001b[0m\u001b[1;33m)\u001b[0m\u001b[1;33m:\u001b[0m\u001b[1;33m\u001b[0m\u001b[1;33m\u001b[0m\u001b[0m\n\u001b[0;32m      6\u001b[0m     \u001b[0mprint\u001b[0m\u001b[1;33m(\u001b[0m\u001b[1;34m\"Cluster %d:\"\u001b[0m \u001b[1;33m%\u001b[0m \u001b[0mi\u001b[0m\u001b[1;33m)\u001b[0m\u001b[1;33m\u001b[0m\u001b[1;33m\u001b[0m\u001b[0m\n\u001b[1;32m----> 7\u001b[1;33m     \u001b[1;32mfor\u001b[0m \u001b[0mj\u001b[0m \u001b[1;32min\u001b[0m \u001b[0morder_centroids\u001b[0m\u001b[1;33m[\u001b[0m\u001b[0mi\u001b[0m\u001b[1;33m,\u001b[0m \u001b[1;33m:\u001b[0m\u001b[1;36m10\u001b[0m\u001b[1;33m]\u001b[0m\u001b[1;33m:\u001b[0m \u001b[1;31m#print out 10 feature terms of each cluster\u001b[0m\u001b[1;33m\u001b[0m\u001b[1;33m\u001b[0m\u001b[0m\n\u001b[0m\u001b[0;32m      8\u001b[0m         \u001b[0mprint\u001b[0m \u001b[1;33m(\u001b[0m\u001b[1;34m' %s'\u001b[0m \u001b[1;33m%\u001b[0m \u001b[0mterms\u001b[0m\u001b[1;33m[\u001b[0m\u001b[0mj\u001b[0m\u001b[1;33m]\u001b[0m\u001b[1;33m)\u001b[0m\u001b[1;33m\u001b[0m\u001b[1;33m\u001b[0m\u001b[0m\n\u001b[0;32m      9\u001b[0m     \u001b[0mprint\u001b[0m\u001b[1;33m(\u001b[0m\u001b[1;34m'------------'\u001b[0m\u001b[1;33m)\u001b[0m\u001b[1;33m\u001b[0m\u001b[1;33m\u001b[0m\u001b[0m\n",
      "\u001b[1;31mTypeError\u001b[0m: 'OPTICS' object is not subscriptable"
     ]
    }
   ],
   "source": [
    "print(\"Cluster centroids: \\n\")\n",
    "order_centroids = model.cluster_centers_.argsort()[:, ::-1]\n",
    "terms = vectorizer.get_feature_names()\n",
    "\n",
    "for i in range(k):\n",
    "    print(\"Cluster %d:\" % i)\n",
    "    for j in order_centroids[i, :10]: #print out 10 feature terms of each cluster\n",
    "        print (' %s' % terms[j])\n",
    "    print('------------')"
   ]
  },
  {
   "cell_type": "code",
   "execution_count": null,
   "id": "666946e9",
   "metadata": {},
   "outputs": [],
   "source": []
  }
 ],
 "metadata": {
  "kernelspec": {
   "display_name": "Python 3 (ipykernel)",
   "language": "python",
   "name": "python3"
  },
  "language_info": {
   "codemirror_mode": {
    "name": "ipython",
    "version": 3
   },
   "file_extension": ".py",
   "mimetype": "text/x-python",
   "name": "python",
   "nbconvert_exporter": "python",
   "pygments_lexer": "ipython3",
   "version": "3.9.7"
  }
 },
 "nbformat": 4,
 "nbformat_minor": 5
}
